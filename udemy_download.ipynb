{
 "cells": [
  {
   "cell_type": "code",
   "execution_count": 1,
   "metadata": {},
   "outputs": [],
   "source": [
    "import libtorrent as lt\n",
    "import time\n",
    "from IPython.display import display\n",
    "import ipywidgets as widgets"
   ]
  },
  {
   "cell_type": "code",
   "execution_count": 2,
   "metadata": {},
   "outputs": [],
   "source": [
    "ses = lt.session()\n",
    "ses.listen_on(6881, 6891)\n",
    "downloads = []"
   ]
  },
  {
   "cell_type": "code",
   "execution_count": 3,
   "metadata": {},
   "outputs": [],
   "source": [
    "params = {\n",
    "    \"save_path\": \"/home/frederick/Documents/GitHub/udemy_download/Torrent\",\n",
    "    \"ti\": lt.torrent_info(\"8B3D44703C08E0C2EF810AEFCD63151ADD145D51.torrent\")\n",
    "}\n",
    "downloads.append(ses.add_torrent(params))"
   ]
  },
  {
   "cell_type": "code",
   "execution_count": 4,
   "metadata": {},
   "outputs": [
    {
     "data": {
      "application/vnd.jupyter.widget-view+json": {
       "model_id": "1291edb962444439b782173f3c76bf11",
       "version_major": 2,
       "version_minor": 0
      },
      "text/plain": [
       "FloatSlider(value=0.0, disabled=True, layout=Layout(width='auto'), step=0.01, style=SliderStyle(description_wi…"
      ]
     },
     "metadata": {},
     "output_type": "display_data"
    }
   ],
   "source": [
    "state_str = [\n",
    "    \"queued\",\n",
    "    \"checking\",\n",
    "    \"downloading metadata\",\n",
    "    \"downloading\",\n",
    "    \"finished\",\n",
    "    \"seeding\",\n",
    "    \"allocating\",\n",
    "    \"checking fastresume\",\n",
    "]\n",
    "\n",
    "layout = widgets.Layout(width=\"auto\")\n",
    "style = {\"description_width\": \"initial\"}\n",
    "download_bars = [\n",
    "    widgets.FloatSlider(\n",
    "        step=0.01, disabled=True, layout=layout, style=style\n",
    "    )\n",
    "    for _ in downloads\n",
    "]\n",
    "display(*download_bars)\n",
    "\n",
    "while downloads:\n",
    "    next_shift = 0\n",
    "    for index, download in enumerate(downloads[:]):\n",
    "        bar = download_bars[index + next_shift]\n",
    "        if not download.is_seed():\n",
    "            s = download.status()\n",
    "\n",
    "            bar.description = \" \".join(\n",
    "                [\n",
    "                    download.name(),\n",
    "                    str(s.download_rate / 1000),\n",
    "                    \"kB/s\",\n",
    "                    state_str[s.state],\n",
    "                ]\n",
    "            )\n",
    "            bar.value = s.progress * 100\n",
    "        else:\n",
    "            next_shift -= 1\n",
    "            ses.remove_torrent(download)\n",
    "            downloads.remove(download)\n",
    "            bar.close()\n",
    "            download_bars.remove(bar)\n",
    "            print(download.name(), \"complete\")\n",
    "    time.sleep(1)"
   ]
  }
 ],
 "metadata": {
  "kernelspec": {
   "display_name": "Python 3",
   "language": "python",
   "name": "python3"
  },
  "language_info": {
   "codemirror_mode": {
    "name": "ipython",
    "version": 3
   },
   "file_extension": ".py",
   "mimetype": "text/x-python",
   "name": "python",
   "nbconvert_exporter": "python",
   "pygments_lexer": "ipython3",
   "version": "3.7.0"
  },
  "orig_nbformat": 4
 },
 "nbformat": 4,
 "nbformat_minor": 2
}
